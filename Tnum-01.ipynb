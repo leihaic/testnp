{
 "cells": [
  {
   "cell_type": "code",
   "execution_count": 33,
   "metadata": {
    "collapsed": true
   },
   "outputs": [],
   "source": [
    "import numpy as np\n",
    "from datetime import datetime\n",
    "import os "
   ]
  },
  {
   "cell_type": "code",
   "execution_count": 34,
   "metadata": {
    "collapsed": false
   },
   "outputs": [
    {
     "name": "stdout",
     "output_type": "stream",
     "text": [
      "The last 2 elements of the sum [63920031996, 63968004000]\n",
      "PythonSum elapsed time in microseconds 29522\n",
      "The last 2 elements of the sum [63920031996 63968004000]\n",
      "NumPySum elapsed time in microseconds 2902\n"
     ]
    }
   ],
   "source": [
    "def ns(n):\n",
    "    a=np.arange(n) ** 2\n",
    "    b=np.arange(n) ** 3\n",
    "    c=a+b\n",
    "    return c\n",
    "def ps(n):\n",
    "    c=[]\n",
    "    for i in range(n):\n",
    "        c.append(i**2+i**3)\n",
    "    return c\n",
    "\n",
    "size=4000\n",
    "start = datetime.now() \n",
    "c = ps(size) \n",
    "delta = datetime.now() - start \n",
    "print(\"The last 2 elements of the sum\", c[-2:])\n",
    "print(\"PythonSum elapsed time in microseconds\", delta.microseconds) \n",
    "start = datetime.now() \n",
    "c = ns(size) \n",
    "delta = datetime.now() - start \n",
    "print(\"The last 2 elements of the sum\", c[-2:])\n",
    "print(\"NumPySum elapsed time in microseconds\", delta.microseconds)"
   ]
  }
 ],
 "metadata": {
  "kernelspec": {
   "display_name": "Python 3",
   "language": "python",
   "name": "python3"
  },
  "language_info": {
   "codemirror_mode": {
    "name": "ipython",
    "version": 3
   },
   "file_extension": ".py",
   "mimetype": "text/x-python",
   "name": "python",
   "nbconvert_exporter": "python",
   "pygments_lexer": "ipython3",
   "version": "3.6.0"
  }
 },
 "nbformat": 4,
 "nbformat_minor": 2
}
